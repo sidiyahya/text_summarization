{
 "cells": [
  {
   "cell_type": "code",
   "execution_count": 1,
   "outputs": [
    {
     "name": "stdout",
     "output_type": "stream",
     "text": [
      "Collecting wordcloud\r\n",
      "  Downloading wordcloud-1.8.1-cp38-cp38-manylinux1_x86_64.whl (371 kB)\r\n",
      "\u001B[K     |████████████████████████████████| 371 kB 4.8 MB/s eta 0:00:01\r\n",
      "\u001B[?25hRequirement already satisfied: matplotlib in /home/users/nina/anaconda3/envs/text_summarization/lib/python3.8/site-packages (from wordcloud) (3.4.3)\r\n",
      "Requirement already satisfied: numpy>=1.6.1 in /home/users/nina/anaconda3/envs/text_summarization/lib/python3.8/site-packages (from wordcloud) (1.21.2)\r\n",
      "Requirement already satisfied: pillow in /home/users/nina/anaconda3/envs/text_summarization/lib/python3.8/site-packages (from wordcloud) (6.2.1)\r\n",
      "Requirement already satisfied: pyparsing>=2.2.1 in /home/users/nina/anaconda3/envs/text_summarization/lib/python3.8/site-packages (from matplotlib->wordcloud) (3.0.4)\r\n",
      "Requirement already satisfied: python-dateutil>=2.7 in /home/users/nina/anaconda3/envs/text_summarization/lib/python3.8/site-packages (from matplotlib->wordcloud) (2.8.2)\r\n",
      "Requirement already satisfied: kiwisolver>=1.0.1 in /home/users/nina/anaconda3/envs/text_summarization/lib/python3.8/site-packages (from matplotlib->wordcloud) (1.3.1)\r\n",
      "Requirement already satisfied: cycler>=0.10 in /home/users/nina/anaconda3/envs/text_summarization/lib/python3.8/site-packages (from matplotlib->wordcloud) (0.11.0)\r\n",
      "Requirement already satisfied: six>=1.5 in /home/users/nina/anaconda3/envs/text_summarization/lib/python3.8/site-packages (from python-dateutil>=2.7->matplotlib->wordcloud) (1.16.0)\r\n",
      "Installing collected packages: wordcloud\r\n",
      "Successfully installed wordcloud-1.8.1\r\n",
      "Note: you may need to restart the kernel to use updated packages.\n"
     ]
    }
   ],
   "source": [
    "!pip install wordcloud"
   ],
   "metadata": {
    "collapsed": false,
    "pycharm": {
     "name": "#%%\n"
    }
   }
  },
  {
   "cell_type": "code",
   "execution_count": 2,
   "outputs": [],
   "source": [
    "import pandas as pd\n",
    "import matplotlib.pyplot as plt\n",
    "from wordcloud import WordCloud"
   ],
   "metadata": {
    "collapsed": false,
    "pycharm": {
     "name": "#%%\n"
    }
   }
  },
  {
   "cell_type": "code",
   "execution_count": null,
   "outputs": [],
   "source": [],
   "metadata": {
    "collapsed": false,
    "pycharm": {
     "name": "#%%\n"
    }
   }
  }
 ],
 "metadata": {
  "kernelspec": {
   "display_name": "Python 3",
   "language": "python",
   "name": "python3"
  },
  "language_info": {
   "codemirror_mode": {
    "name": "ipython",
    "version": 2
   },
   "file_extension": ".py",
   "mimetype": "text/x-python",
   "name": "python",
   "nbconvert_exporter": "python",
   "pygments_lexer": "ipython2",
   "version": "2.7.6"
  }
 },
 "nbformat": 4,
 "nbformat_minor": 0
}