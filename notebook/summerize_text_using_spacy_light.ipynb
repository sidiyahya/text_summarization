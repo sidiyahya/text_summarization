{
 "cells": [
  {
   "cell_type": "code",
   "execution_count": 12,
   "metadata": {},
   "outputs": [],
   "source": [
    "#Extractive approach to auto -summarize the article "
   ]
  },
  {
   "cell_type": "code",
   "execution_count": 13,
   "metadata": {},
   "outputs": [],
   "source": [
    "#Step 1 - Install Spacy and Scikit-learn libraries"
   ]
  },
  {
   "cell_type": "code",
   "execution_count": 1,
   "metadata": {
    "scrolled": true
   },
   "outputs": [],
   "source": [
    "import spacy as spacy\n",
    "\n",
    "pip install spacy\n"
   ]
  },
  {
   "cell_type": "code",
   "execution_count": 2,
   "metadata": {},
   "outputs": [
    {
     "name": "stdout",
     "output_type": "stream",
     "text": [
      "Collecting scikit-learn\r\n",
      "  Downloading scikit_learn-1.0.2-cp38-cp38-manylinux_2_17_x86_64.manylinux2014_x86_64.whl (26.7 MB)\r\n",
      "\u001B[K     |████████████████████████████████| 26.7 MB 8.8 MB/s eta 0:00:01\r\n",
      "\u001B[?25hRequirement already satisfied: joblib>=0.11 in /home/mohamedali/anaconda3/envs/text_summarization/lib/python3.8/site-packages (from scikit-learn) (1.1.0)\r\n",
      "Requirement already satisfied: numpy>=1.14.6 in /home/mohamedali/anaconda3/envs/text_summarization/lib/python3.8/site-packages (from scikit-learn) (1.21.2)\r\n",
      "Collecting threadpoolctl>=2.0.0\r\n",
      "  Downloading threadpoolctl-3.1.0-py3-none-any.whl (14 kB)\r\n",
      "Collecting scipy>=1.1.0\r\n",
      "  Downloading scipy-1.7.3-cp38-cp38-manylinux_2_17_x86_64.manylinux2014_x86_64.whl (39.3 MB)\r\n",
      "\u001B[K     |████████████████████████████████| 39.3 MB 131 kB/s eta 0:00:01\r\n",
      "\u001B[?25hInstalling collected packages: threadpoolctl, scipy, scikit-learn\r\n",
      "Successfully installed scikit-learn-1.0.2 scipy-1.7.3 threadpoolctl-3.1.0\r\n",
      "Note: you may need to restart the kernel to use updated packages.\n"
     ]
    }
   ],
   "source": [
    "pip install -U scikit-learn"
   ]
  },
  {
   "cell_type": "code",
   "execution_count": 32,
   "metadata": {},
   "outputs": [],
   "source": [
    "#Step 2- load the general-purpose spacy model in english and then open the file that contains the text to be summarized. Then apply the pipeline to the loaded text."
   ]
  },
  {
   "cell_type": "code",
   "execution_count": 3,
   "metadata": {},
   "outputs": [],
   "source": [
    "import spacy"
   ]
  },
  {
   "cell_type": "code",
   "execution_count": 4,
   "metadata": {},
   "outputs": [
    {
     "name": "stdout",
     "output_type": "stream",
     "text": [
      "Collecting en-core-web-sm==3.2.0\r\n",
      "  Downloading https://github.com/explosion/spacy-models/releases/download/en_core_web_sm-3.2.0/en_core_web_sm-3.2.0-py3-none-any.whl (13.9 MB)\r\n",
      "\u001B[K     |████████████████████████████████| 13.9 MB 5.3 MB/s eta 0:00:01\r\n",
      "\u001B[?25hRequirement already satisfied: spacy<3.3.0,>=3.2.0 in /home/mohamedali/anaconda3/envs/text_summarization/lib/python3.8/site-packages (from en-core-web-sm==3.2.0) (3.2.1)\r\n",
      "Requirement already satisfied: pathy>=0.3.5 in /home/mohamedali/anaconda3/envs/text_summarization/lib/python3.8/site-packages (from spacy<3.3.0,>=3.2.0->en-core-web-sm==3.2.0) (0.6.0)\r\n",
      "Requirement already satisfied: tqdm<5.0.0,>=4.38.0 in /home/mohamedali/anaconda3/envs/text_summarization/lib/python3.8/site-packages (from spacy<3.3.0,>=3.2.0->en-core-web-sm==3.2.0) (4.62.3)\r\n",
      "Requirement already satisfied: requests<3.0.0,>=2.13.0 in /home/mohamedali/anaconda3/envs/text_summarization/lib/python3.8/site-packages (from spacy<3.3.0,>=3.2.0->en-core-web-sm==3.2.0) (2.27.1)\r\n",
      "Requirement already satisfied: setuptools in /home/mohamedali/anaconda3/envs/text_summarization/lib/python3.8/site-packages (from spacy<3.3.0,>=3.2.0->en-core-web-sm==3.2.0) (58.0.4)\r\n",
      "Requirement already satisfied: langcodes<4.0.0,>=3.2.0 in /home/mohamedali/anaconda3/envs/text_summarization/lib/python3.8/site-packages (from spacy<3.3.0,>=3.2.0->en-core-web-sm==3.2.0) (3.3.0)\r\n",
      "Requirement already satisfied: blis<0.8.0,>=0.4.0 in /home/mohamedali/anaconda3/envs/text_summarization/lib/python3.8/site-packages (from spacy<3.3.0,>=3.2.0->en-core-web-sm==3.2.0) (0.7.4)\r\n",
      "Requirement already satisfied: spacy-loggers<2.0.0,>=1.0.0 in /home/mohamedali/anaconda3/envs/text_summarization/lib/python3.8/site-packages (from spacy<3.3.0,>=3.2.0->en-core-web-sm==3.2.0) (1.0.1)\r\n",
      "Requirement already satisfied: srsly<3.0.0,>=2.4.1 in /home/mohamedali/anaconda3/envs/text_summarization/lib/python3.8/site-packages (from spacy<3.3.0,>=3.2.0->en-core-web-sm==3.2.0) (2.4.1)\r\n",
      "Requirement already satisfied: jinja2 in /home/mohamedali/anaconda3/envs/text_summarization/lib/python3.8/site-packages (from spacy<3.3.0,>=3.2.0->en-core-web-sm==3.2.0) (3.0.2)\r\n",
      "Requirement already satisfied: cymem<2.1.0,>=2.0.2 in /home/mohamedali/anaconda3/envs/text_summarization/lib/python3.8/site-packages (from spacy<3.3.0,>=3.2.0->en-core-web-sm==3.2.0) (2.0.5)\r\n",
      "Requirement already satisfied: wasabi<1.1.0,>=0.8.1 in /home/mohamedali/anaconda3/envs/text_summarization/lib/python3.8/site-packages (from spacy<3.3.0,>=3.2.0->en-core-web-sm==3.2.0) (0.8.2)\r\n",
      "Requirement already satisfied: preshed<3.1.0,>=3.0.2 in /home/mohamedali/anaconda3/envs/text_summarization/lib/python3.8/site-packages (from spacy<3.3.0,>=3.2.0->en-core-web-sm==3.2.0) (3.0.5)\r\n",
      "Requirement already satisfied: murmurhash<1.1.0,>=0.28.0 in /home/mohamedali/anaconda3/envs/text_summarization/lib/python3.8/site-packages (from spacy<3.3.0,>=3.2.0->en-core-web-sm==3.2.0) (1.0.5)\r\n",
      "Requirement already satisfied: spacy-legacy<3.1.0,>=3.0.8 in /home/mohamedali/anaconda3/envs/text_summarization/lib/python3.8/site-packages (from spacy<3.3.0,>=3.2.0->en-core-web-sm==3.2.0) (3.0.8)\r\n",
      "Requirement already satisfied: packaging>=20.0 in /home/mohamedali/anaconda3/envs/text_summarization/lib/python3.8/site-packages (from spacy<3.3.0,>=3.2.0->en-core-web-sm==3.2.0) (21.3)\r\n",
      "Requirement already satisfied: pydantic!=1.8,!=1.8.1,<1.9.0,>=1.7.4 in /home/mohamedali/anaconda3/envs/text_summarization/lib/python3.8/site-packages (from spacy<3.3.0,>=3.2.0->en-core-web-sm==3.2.0) (1.8.2)\r\n",
      "Requirement already satisfied: typer<0.5.0,>=0.3.0 in /home/mohamedali/anaconda3/envs/text_summarization/lib/python3.8/site-packages (from spacy<3.3.0,>=3.2.0->en-core-web-sm==3.2.0) (0.4.0)\r\n",
      "Requirement already satisfied: numpy>=1.15.0 in /home/mohamedali/anaconda3/envs/text_summarization/lib/python3.8/site-packages (from spacy<3.3.0,>=3.2.0->en-core-web-sm==3.2.0) (1.21.2)\r\n",
      "Requirement already satisfied: thinc<8.1.0,>=8.0.12 in /home/mohamedali/anaconda3/envs/text_summarization/lib/python3.8/site-packages (from spacy<3.3.0,>=3.2.0->en-core-web-sm==3.2.0) (8.0.13)\r\n",
      "Requirement already satisfied: catalogue<2.1.0,>=2.0.6 in /home/mohamedali/anaconda3/envs/text_summarization/lib/python3.8/site-packages (from spacy<3.3.0,>=3.2.0->en-core-web-sm==3.2.0) (2.0.6)\r\n",
      "Requirement already satisfied: pyparsing!=3.0.5,>=2.0.2 in /home/mohamedali/anaconda3/envs/text_summarization/lib/python3.8/site-packages (from packaging>=20.0->spacy<3.3.0,>=3.2.0->en-core-web-sm==3.2.0) (3.0.4)\r\n",
      "Requirement already satisfied: smart-open<6.0.0,>=5.0.0 in /home/mohamedali/anaconda3/envs/text_summarization/lib/python3.8/site-packages (from pathy>=0.3.5->spacy<3.3.0,>=3.2.0->en-core-web-sm==3.2.0) (5.1.0)\r\n",
      "Requirement already satisfied: typing-extensions>=3.7.4.3 in /home/mohamedali/anaconda3/envs/text_summarization/lib/python3.8/site-packages (from pydantic!=1.8,!=1.8.1,<1.9.0,>=1.7.4->spacy<3.3.0,>=3.2.0->en-core-web-sm==3.2.0) (3.10.0.2)\r\n",
      "Requirement already satisfied: certifi>=2017.4.17 in /home/mohamedali/anaconda3/envs/text_summarization/lib/python3.8/site-packages (from requests<3.0.0,>=2.13.0->spacy<3.3.0,>=3.2.0->en-core-web-sm==3.2.0) (2021.10.8)\r\n",
      "Requirement already satisfied: urllib3<1.27,>=1.21.1 in /home/mohamedali/anaconda3/envs/text_summarization/lib/python3.8/site-packages (from requests<3.0.0,>=2.13.0->spacy<3.3.0,>=3.2.0->en-core-web-sm==3.2.0) (1.26.8)\r\n",
      "Requirement already satisfied: charset-normalizer~=2.0.0 in /home/mohamedali/anaconda3/envs/text_summarization/lib/python3.8/site-packages (from requests<3.0.0,>=2.13.0->spacy<3.3.0,>=3.2.0->en-core-web-sm==3.2.0) (2.0.4)\r\n",
      "Requirement already satisfied: idna<4,>=2.5 in /home/mohamedali/anaconda3/envs/text_summarization/lib/python3.8/site-packages (from requests<3.0.0,>=2.13.0->spacy<3.3.0,>=3.2.0->en-core-web-sm==3.2.0) (3.3)\r\n",
      "Requirement already satisfied: click<9.0.0,>=7.1.1 in /home/mohamedali/anaconda3/envs/text_summarization/lib/python3.8/site-packages (from typer<0.5.0,>=0.3.0->spacy<3.3.0,>=3.2.0->en-core-web-sm==3.2.0) (8.0.3)\r\n",
      "Requirement already satisfied: MarkupSafe>=2.0 in /home/mohamedali/anaconda3/envs/text_summarization/lib/python3.8/site-packages (from jinja2->spacy<3.3.0,>=3.2.0->en-core-web-sm==3.2.0) (2.0.1)\r\n",
      "Installing collected packages: en-core-web-sm\r\n",
      "Successfully installed en-core-web-sm-3.2.0\r\n",
      "\u001B[38;5;2m✔ Download and installation successful\u001B[0m\r\n",
      "You can now load the package via spacy.load('en_core_web_sm')\r\n"
     ]
    }
   ],
   "source": [
    "!python -m spacy download en_core_web_sm"
   ]
  },
  {
   "cell_type": "code",
   "execution_count": 19,
   "metadata": {},
   "outputs": [],
   "source": [
    "from spacy.lang.en.stop_words import STOP_WORDS\n",
    "from sklearn.feature_extraction.text import CountVectorizer\n",
    "import en_core_web_sm\n",
    "nlp = en_core_web_sm.load()"
   ]
  },
  {
   "cell_type": "code",
   "execution_count": 20,
   "metadata": {},
   "outputs": [],
   "source": [
    "with open(\"mahfoudh article.txt\", \"r\", encoding=\"utf-8\") as f:\n",
    "        text = \" \".join(f.readlines())"
   ]
  },
  {
   "cell_type": "code",
   "execution_count": 21,
   "metadata": {},
   "outputs": [],
   "source": [
    "doc = nlp(text)"
   ]
  },
  {
   "cell_type": "code",
   "execution_count": 48,
   "metadata": {},
   "outputs": [],
   "source": [
    "# Step 3 -The next step is to remove the stop words and create a dictionary of words and their respective frequencies "
   ]
  },
  {
   "cell_type": "code",
   "execution_count": 22,
   "metadata": {},
   "outputs": [],
   "source": [
    "corpus = [sent.text.lower() for sent in doc.sents ]\n",
    "cv = CountVectorizer(stop_words=list(STOP_WORDS))   \n",
    "cv_fit=cv.fit_transform(corpus)    \n",
    "word_list = cv.get_feature_names();    \n",
    "count_list = cv_fit.toarray().sum(axis=0)\n",
    "word_frequency = dict(zip(word_list,count_list))"
   ]
  },
  {
   "cell_type": "code",
   "execution_count": 50,
   "metadata": {},
   "outputs": [],
   "source": [
    "# Step 4 -compute the relative frequency of each word - I am doing this to determing the relevance of sentences based on the \n",
    "# cumulative frequency of their words"
   ]
  },
  {
   "cell_type": "code",
   "execution_count": 23,
   "metadata": {},
   "outputs": [
    {
     "name": "stdout",
     "output_type": "stream",
     "text": [
      "\n",
      "Words with higher frequencies:  ['activity', 'physical', 'women']\n"
     ]
    }
   ],
   "source": [
    "val=sorted(word_frequency.values())\n",
    "higher_word_frequencies = [word for word,freq in word_frequency.items() if freq in val[-3:]]\n",
    "print(\"\\nWords with higher frequencies: \", higher_word_frequencies)\n",
    "# gets relative frequency of words\n",
    "higher_frequency = val[-1]\n",
    "for word in word_frequency.keys():  \n",
    "    word_frequency[word] = (word_frequency[word]/higher_frequency)"
   ]
  },
  {
   "cell_type": "code",
   "execution_count": 52,
   "metadata": {},
   "outputs": [],
   "source": [
    "# Step 5- Creating a ordered list (ascending order) of most important sentences"
   ]
  },
  {
   "cell_type": "code",
   "execution_count": 24,
   "metadata": {},
   "outputs": [],
   "source": [
    "sentence_rank={}\n",
    "for sent in doc.sents:\n",
    "    for word in sent :       \n",
    "        if word.text.lower() in word_frequency.keys():            \n",
    "            if sent in sentence_rank.keys():\n",
    "                sentence_rank[sent]+=word_frequency[word.text.lower()]\n",
    "            else:\n",
    "                sentence_rank[sent]=word_frequency[word.text.lower()]\n",
    "top_sentences=(sorted(sentence_rank.values())[::-1])\n",
    "top_sent=top_sentences[:3]"
   ]
  },
  {
   "cell_type": "code",
   "execution_count": 54,
   "metadata": {},
   "outputs": [],
   "source": [
    "# Step 6- Extracting the top 3 sentences"
   ]
  },
  {
   "cell_type": "code",
   "execution_count": 25,
   "metadata": {},
   "outputs": [
    {
     "name": "stdout",
     "output_type": "stream",
     "text": [
      "15\n",
      " Moderate and vigorous intensity physical activity responses\n",
      " were combined into a single category, moderate-to-vigorous\n",
      " physical activity (MVPA), because so few women reported\n",
      " time spent in vigorous activity and minutes of MVPA is a\n",
      " commonly reported measure of physical activity. \n",
      " PAT (n ¼ 30)\n",
      " PM 1\n",
      " Measure a\n",
      " Attitudes b\n",
      " Expectations\n",
      " Self-efficacy\n",
      " Social support family\n",
      " Social support friends\n",
      " Barriers\n",
      " Importance c\n",
      " Range LSM\n",
      " 5-15\n",
      " 5-30\n",
      " 5-25\n",
      " 6-30\n",
      " 6-30\n",
      " 7-42 13.0\n",
      " 26.8\n",
      " 9.3\n",
      " 21.0\n",
      " 18.2\n",
      " 20.6\n",
      " 1.00\n",
      " PM 12\n",
      " 95% CL\n",
      " 12.3\n",
      " 25.6\n",
      " 7.7\n",
      " 19.1\n",
      " 16.8\n",
      " 18.1\n",
      " 0.49\n",
      " PATE (n ¼ 24)\n",
      " 13.7\n",
      " 28.0\n",
      " 11.0\n",
      " 22.9\n",
      " 19.6\n",
      " 23.2\n",
      " 2.05\n",
      " LSM\n",
      " 13.5\n",
      " 27.0\n",
      " 9.0\n",
      " 20.3\n",
      " 18.6\n",
      " 22.4\n",
      " 1.78\n",
      " PM 1\n",
      " 95% CL\n",
      " 12.7\n",
      " 25.6\n",
      " 7.2\n",
      " 18.2\n",
      " 17.1\n",
      " 19.6\n",
      " 0.79\n",
      " 14.3\n",
      " 28.4\n",
      " 10.8\n",
      " 22.3\n",
      " 20.1\n",
      " 25.3\n",
      " 4.02\n",
      " LSM\n",
      " 13.7\n",
      " 27.5\n",
      " 11.0\n",
      " 21.9\n",
      " 20.6\n",
      " 20.0\n",
      " 2.43\n",
      " PM 12\n",
      " 95% CL\n",
      " 12.9\n",
      " 26.1\n",
      " 9.2\n",
      " 19.8\n",
      " 19.0\n",
      " 17.1\n",
      " 1.01\n",
      " 14.5\n",
      " 28.8\n",
      " 12.8\n",
      " 24.0\n",
      " 22.1\n",
      " 22.9\n",
      " 5.86\n",
      " LSM\n",
      " 13.1\n",
      " 27.0\n",
      " 9.4\n",
      " 20.1\n",
      " 19.5\n",
      " 19.2\n",
      " 1.10\n",
      " P\n",
      " 95% CL\n",
      " 12.3\n",
      " 25.6\n",
      " 7.5\n",
      " 17.9\n",
      " 17.9\n",
      " 16.1\n",
      " 0.47\n",
      " 14.0\n",
      " 28.5\n",
      " 11.4\n",
      " 22.4\n",
      " 21.2\n",
      " 22.3\n",
      " 2.59\n",
      " Arm Time\n",
      " .744\n",
      " .606\n",
      " .240\n",
      " .696\n",
      " .034\n",
      " .174\n",
      " .427\n",
      " .962\n",
      " .878\n",
      " .285\n",
      " .240\n",
      " .666\n",
      " .725\n",
      " .067\n",
      " Int\n",
      " .202\n",
      " .656\n",
      " .509\n",
      " .601\n",
      " .341\n",
      " .358\n",
      " .016\n",
      " Abbreviations: CL, confidence limit (upper and lower bounds); Int, interaction; LSM, least squares mean; PAT, parents as teachers control treatment; PATE,\n",
      " parents as teachers enhanced experimental treatment; PM, postnatal month. \n",
      " This article suggests that the provision of information\n",
      " about the importance of physical activity, discussions\n",
      " about overcoming barriers to physical activity, and set-\n",
      " ting monthly physical activity goals are insufficient to\n",
      " empower postpartum women to increase their physical\n",
      " activity level. "
     ]
    }
   ],
   "source": [
    "summary=[]\n",
    "for sent,strength in sentence_rank.items():  \n",
    "    if strength in top_sent:\n",
    "        summary.append(sent)\n",
    "    else:\n",
    "        continue\n",
    "for i in summary:\n",
    "    print(i,end=\" \")"
   ]
  }
 ],
 "metadata": {
  "kernelspec": {
   "display_name": "Python 3",
   "language": "python",
   "name": "python3"
  },
  "language_info": {
   "codemirror_mode": {
    "name": "ipython",
    "version": 3
   },
   "file_extension": ".py",
   "mimetype": "text/x-python",
   "name": "python",
   "nbconvert_exporter": "python",
   "pygments_lexer": "ipython3",
   "version": "3.7.4"
  }
 },
 "nbformat": 4,
 "nbformat_minor": 2
}