{
 "cells": [
  {
   "cell_type": "code",
   "execution_count": null,
   "metadata": {
    "collapsed": true
   },
   "outputs": [],
   "source": []
  },
  {
   "cell_type": "code",
   "execution_count": 1,
   "outputs": [
    {
     "name": "stdout",
     "output_type": "stream",
     "text": [
      "[]\n"
     ]
    }
   ],
   "source": [
    "import os\n",
    "import re\n",
    "\n",
    "pattern = r\"^JML\\s*\\|.*\\s*\\r?\\n((?:.*\\r?\\n)*?)Authors\\b\"\n",
    "array1 = []\n",
    "\n",
    "\n",
    "with open(\"../articles_to_text/10803_2019_Article_4093.txt\", \"r\") as data:\n",
    "    array1 = array1 + re.findall(pattern, data.read(), re.MULTILINE)\n",
    "print(array1)"
   ],
   "metadata": {
    "collapsed": false,
    "pycharm": {
     "name": "#%%\n"
    }
   }
  },
  {
   "cell_type": "code",
   "execution_count": 2,
   "outputs": [
    {
     "name": "stdout",
     "output_type": "stream",
     "text": [
      "Box A contains  red and  white balls, while Box B contains  red and  blue balls.\n"
     ]
    }
   ],
   "source": [
    "import re\n",
    "input_str = 'Box A contains 3 red and 5 white balls, while Box B contains 4 red and 2 blue balls.'\n",
    "result = re.sub(r'\\d+', '', input_str)\n",
    "print(result)"
   ],
   "metadata": {
    "collapsed": false,
    "pycharm": {
     "name": "#%%\n"
    }
   }
  },
  {
   "cell_type": "code",
   "execution_count": 4,
   "outputs": [
    {
     "ename": "TypeError",
     "evalue": "translate() takes exactly one argument (2 given)",
     "output_type": "error",
     "traceback": [
      "\u001B[0;31m---------------------------------------------------------------------------\u001B[0m",
      "\u001B[0;31mTypeError\u001B[0m                                 Traceback (most recent call last)",
      "\u001B[0;32m/tmp/ipykernel_82583/3744469926.py\u001B[0m in \u001B[0;36m<module>\u001B[0;34m\u001B[0m\n\u001B[1;32m      1\u001B[0m \u001B[0;32mimport\u001B[0m \u001B[0mstring\u001B[0m\u001B[0;34m\u001B[0m\u001B[0;34m\u001B[0m\u001B[0m\n\u001B[1;32m      2\u001B[0m \u001B[0minput_str\u001B[0m \u001B[0;34m=\u001B[0m \u001B[0;34m'This &is [an] example? {of} string. with.? punctuation!!!!'\u001B[0m \u001B[0;31m# Sample string\u001B[0m\u001B[0;34m\u001B[0m\u001B[0;34m\u001B[0m\u001B[0m\n\u001B[0;32m----> 3\u001B[0;31m \u001B[0mresult\u001B[0m \u001B[0;34m=\u001B[0m \u001B[0minput_str\u001B[0m\u001B[0;34m.\u001B[0m\u001B[0mtranslate\u001B[0m\u001B[0;34m(\u001B[0m\u001B[0;34m''\u001B[0m\u001B[0;34m,\u001B[0m \u001B[0mstring\u001B[0m\u001B[0;34m.\u001B[0m\u001B[0mpunctuation\u001B[0m\u001B[0;34m)\u001B[0m\u001B[0;34m\u001B[0m\u001B[0;34m\u001B[0m\u001B[0m\n\u001B[0m\u001B[1;32m      4\u001B[0m \u001B[0mprint\u001B[0m\u001B[0;34m(\u001B[0m\u001B[0mresult\u001B[0m\u001B[0;34m)\u001B[0m\u001B[0;34m\u001B[0m\u001B[0;34m\u001B[0m\u001B[0m\n",
      "\u001B[0;31mTypeError\u001B[0m: translate() takes exactly one argument (2 given)"
     ]
    }
   ],
   "source": [
    "import string\n",
    "input_str = 'This &is [an] example? {of} string. with.? punctuation!!!!' # Sample string\n",
    "result = input_str.translate('', string.punctuation)\n",
    "print(result)"
   ],
   "metadata": {
    "collapsed": false,
    "pycharm": {
     "name": "#%%\n"
    }
   }
  },
  {
   "cell_type": "code",
   "execution_count": 5,
   "outputs": [
    {
     "data": {
      "text/plain": "'Hey did you know that the summer break is coming Amazing right  Its only 5 more days '"
     },
     "execution_count": 5,
     "metadata": {},
     "output_type": "execute_result"
    }
   ],
   "source": [
    "\n",
    "# remove punctuation\n",
    "def remove_punctuation(text):\n",
    "    translator = str.maketrans('', '', string.punctuation)\n",
    "    return text.translate(translator)\n",
    "\n",
    "input_str = \"Hey, did you know that the summer break is coming? Amazing right !! It's only 5 more days !!\"\n",
    "remove_punctuation(input_str)"
   ],
   "metadata": {
    "collapsed": false,
    "pycharm": {
     "name": "#%%\n"
    }
   }
  },
  {
   "cell_type": "code",
   "execution_count": 7,
   "outputs": [],
   "source": [
    "# remove urls\n",
    "# remove digits\n",
    "# remove punctuations\n",
    "# remove only characters\n",
    "#"
   ],
   "metadata": {
    "collapsed": false,
    "pycharm": {
     "name": "#%%\n"
    }
   }
  },
  {
   "cell_type": "code",
   "execution_count": 9,
   "outputs": [
    {
     "name": "stdout",
     "output_type": "stream",
     "text": [
      "Social Cognitive Interventions for Adolescents - ORG\n",
      "Systematic Review - ORG\n",
      "Angela Tseng - PERSON\n",
      "Bruno Biagianti - PERSON\n",
      "Sunday - DATE\n",
      "Christine A. Conelea - PERSON\n",
      "1 - CARDINAL\n",
      "1 - CARDINAL\n",
      "1 - CARDINAL\n",
      "Behavioral Sciences - ORG\n",
      "University of Minnesota - ORG\n",
      "Minneapolis - GPE\n",
      "MN - ORG\n",
      "2 - CARDINAL\n",
      "Department of R&D, Posit Science Corporation - ORG\n",
      "San Francisco - GPE\n",
      "CA - ORG\n",
      "USA - GPE\n",
      "3 - CARDINAL\n",
      "Department of Department of Pathophysiology and Transplantation - ORG\n",
      "University of Milan - ORG\n",
      "Milan - GPE\n",
      "Italy - GPE\n",
      "Early Life Exposure to Antibiotics and Autism Spectrum Disorders - ORG\n",
      "Systematic Review - ORG\n",
      "Jan Łukasik - PERSON\n",
      "1 - CARDINAL\n",
      "Andrea Horvath - PERSON\n",
      "1 - CARDINAL\n",
      "Ruth - PERSON\n",
      "2 - CARDINAL\n",
      "Hania - GPE\n",
      "1 - CARDINAL\n",
      "Working Group - ORG\n",
      "June 2019 - DATE\n",
      "Author(s) 2019 - DATE\n",
      "Yonwoo Jung 1,2 - PERSON\n",
      "Angela M. Lee\n",
      " - PERSON\n",
      "Sherry A. McKee - PERSON\n",
      "R. Picciotto - PERSON\n",
      "ASD - ORG\n"
     ]
    }
   ],
   "source": [
    "import spacy\n",
    "import en_core_web_sm\n",
    "nlp = en_core_web_sm.load()\n",
    "text =\"\"\"\n",
    "\\n\n",
    "Social Cognitive Interventions for Adolescents with Autism\n",
    "Spectrum Disorders: A Systematic Review\n",
    "Angela Tseng 1 , Bruno Biagianti 2,3,* , Sunday M. Francis 1 , Christine A. Conelea 1 , Suma\n",
    "Jacob 1\n",
    "1. Department\n",
    "of Psychiatry and Behavioral Sciences, University of Minnesota, Minneapolis, MN,\n",
    "USA\n",
    "2. Department of R&D, Posit Science Corporation, San Francisco, CA, USA\n",
    "3. Department of Department of Pathophysiology and Transplantation, University of Milan, Milan,\n",
    "Italy\n",
    "\\n\n",
    "Early Life Exposure to Antibiotics and Autism Spectrum Disorders:\n",
    "A Systematic Review\n",
    "Jan Łukasik 1 · Bernadeta Patro‑Gołąb 1 · Andrea Horvath 1 · Ruth Baron 2 · Hania Szajewska 1 on behalf of the\n",
    "SAWANTI Working Group\n",
    "Published online: 8 June 2019\n",
    "© The Author(s) 2019\n",
    "\\n\n",
    "moderators\n",
    "Yonwoo Jung 1,2 , Angela M. Lee\n",
    "1,2\n",
    ", Sherry A. McKee 1 & Marina R. Picciotto\n",
    "1,2\n",
    "While exposure to nicotine during developmental periods can significantly affect brain development,\n",
    "studies examining the association between maternal smoking and autism spectrum disorder (ASD)\n",
    "\"\"\"\n",
    "doc = nlp(text)\n",
    "for ent in doc.ents:\n",
    "    print(ent.text, '-',ent.label_)"
   ],
   "metadata": {
    "collapsed": false,
    "pycharm": {
     "name": "#%%\n"
    }
   }
  },
  {
   "cell_type": "code",
   "execution_count": null,
   "outputs": [],
   "source": [],
   "metadata": {
    "collapsed": false,
    "pycharm": {
     "name": "#%%\n"
    }
   }
  }
 ],
 "metadata": {
  "kernelspec": {
   "display_name": "Python 3",
   "language": "python",
   "name": "python3"
  },
  "language_info": {
   "codemirror_mode": {
    "name": "ipython",
    "version": 2
   },
   "file_extension": ".py",
   "mimetype": "text/x-python",
   "name": "python",
   "nbconvert_exporter": "python",
   "pygments_lexer": "ipython2",
   "version": "2.7.6"
  }
 },
 "nbformat": 4,
 "nbformat_minor": 0
}