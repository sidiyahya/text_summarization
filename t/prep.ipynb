{
 "cells": [
  {
   "cell_type": "code",
   "execution_count": 1,
   "outputs": [],
   "source": [
    "text = '''\n",
    "anhela et al. Systematic Reviews           (2020) 9:109\n",
    "https://doi.org/10.1186/s13643-020-01330-9\n",
    "R ES EAR CH\n",
    "Association between pesticide exposure\n",
    "and paraoxonase-1 (PON1) polymorphisms,\n",
    "and neurobehavioural outcomes in\n",
    "children: a systematic review\n",
    "Nkosinathi Banhela1*, Pragalathan Naidoo2 and Saloshni Naidoo1\n",
    "Abstract\n",
    "Environmental factors such as pollution, pesticide exposure and socio-demographic location have been implicated\n",
    "as a pressure capable of altering genetic make-up. Altered genetic sequence of genes encoding enzymes may\n",
    "result in single nucleotide polymorphism (SNP). Of peculiar interest is the genetic variance on the paraoxonase-1\n",
    "gene induced by pre- and postnatal exposure to pesticides. SNP have been reported on the paraoxonase-1 gene\n",
    "and post-xenobiotic exposure and are presumed to alter gene sequence and ultimately enzymatic activity. The\n",
    "altered enzymatic activity may facilitate neurodevelopment disorders. Autism spectrum disorders (ASD) and\n",
    "attention deficit hyperactivity disorder (ADHD) are among the neurodevelopment disorders of which prevalence is\n",
    "concurrently associated with increasing environmental xenobiotic exposure. The variance on xenobiotic\n",
    "metabolising genes is associated with altered neurodevelopment outcome and ultimately altered neurobehavioural\n",
    "outcome. Prime interests of this systematic review were to establish an understanding of the sequences on the\n",
    "paraoxonase-1 gene associated with adverse neurobehavioural outcome. An in-depth literature search was\n",
    "conducted using the term combination “pesticide exposure, pre- and postnatal exposure, organophosphates/\n",
    "organophosphorus, single nucleotide polymorphism, paraoxonase-1 (PON-1), neurodevelopment/neurobehavioural\n",
    "outcome in child/infant”. Articles published from the year 2000 to 2018 were considered for review. The result\n",
    "showed that variance on the PON1-108 and 192 alleles could be implicated in the development of altered\n",
    "neurobehavioural outcomes.\n",
    "The “Quality Assessment Tool for Quantitative Studies”\n",
    "developed by the Effective Public Health Practice Project\n",
    "(EPHPP) was used to appraise the quality of articles for\n",
    "inclusion in the review [30]. These guidelines assess the\n",
    "------------------------------------------------------------------------\n",
    "Page 4 of 12\n",
    "Banhela et al. Systematic Reviews           (2020) 9:109\n",
    "Journal of Autism and Developmental Disorders (2019) 49:3866–3876\n",
    "https://doi.org/10.1007/s10803-019-04093-y\n",
    "Jan Łukasik 1 · Bernadeta Patro‑Gołąb 1 · Andrea Horvath 1 · Ruth Baron 2 · Hania Szajewska 1 on behalf of the\n",
    "SAWANTI Working Group\n",
    "Published online: 8 June 2019\n",
    "© The Author(s) 2019\n",
    "Hania Szajewska\n",
    "hania@ipgate.pl\n",
    "1 Department of Paediatrics, The Medical University\n",
    "of Warsaw, Żwirki i Wigury 63A, 02‑091 Warsaw, Poland\n",
    "2 Sarphati Amsterdam, Amsterdam, The Netherlands\n",
    "Journal of Autism and Developmental Disorders (2019) 49:3866–3876\n",
    "3867\n",
    "Fig. 2  Meta-analysis of case–control studies on prenatal antibiotic exposure\n",
    "References\n",
    "(Grossi et al. 2018)\n",
    "\n",
    "e\n",
    "g\n",
    "a\n",
    "d\n",
    "n\n",
    "a\n",
    "l\n",
    "o\n",
    "o\n",
    "t\n",
    ")\n",
    "References\n",
    "1.\n",
    "Costa LG. Current issues in organophosphate toxicology. Clinica Chimica\n",
    "Acta. 2006;366(1):1–13.\n",
    "'''"
   ],
   "metadata": {
    "collapsed": false,
    "pycharm": {
     "name": "#%%\n"
    }
   }
  },
  {
   "cell_type": "code",
   "execution_count": null,
   "outputs": [],
   "source": [
    "\n",
    "from t.preprocessing_articles_text import remove_outliers\n",
    "\n",
    "text_cleaned = remove_outliers(text)"
   ],
   "metadata": {
    "collapsed": false,
    "pycharm": {
     "name": "#%%\n",
     "is_executing": true
    }
   }
  },
  {
   "cell_type": "code",
   "execution_count": null,
   "outputs": [],
   "source": [],
   "metadata": {
    "collapsed": false,
    "pycharm": {
     "name": "#%%\n"
    }
   }
  },
  {
   "cell_type": "code",
   "execution_count": 29,
   "outputs": [],
   "source": [],
   "metadata": {
    "collapsed": false,
    "pycharm": {
     "name": "#%%\n"
    }
   }
  },
  {
   "cell_type": "code",
   "execution_count": 21,
   "outputs": [
    {
     "data": {
      "text/plain": "'Hey did you know that the summer break is coming Amazing right  Its only 5 more days '"
     },
     "execution_count": 21,
     "metadata": {},
     "output_type": "execute_result"
    }
   ],
   "source": [
    "\n",
    "\n",
    "input_str = \"Hey, did you know that the summer break is coming? Amazing right !! It's only 5 more days !!\"\n",
    "remove_punctuation(input_str)"
   ],
   "metadata": {
    "collapsed": false,
    "pycharm": {
     "name": "#%%\n"
    }
   }
  },
  {
   "cell_type": "code",
   "execution_count": 24,
   "outputs": [],
   "source": [],
   "metadata": {
    "collapsed": false,
    "pycharm": {
     "name": "#%%\n"
    }
   }
  },
  {
   "cell_type": "code",
   "execution_count": 25,
   "outputs": [],
   "source": [],
   "metadata": {
    "collapsed": false,
    "pycharm": {
     "name": "#%%\n"
    }
   }
  },
  {
   "cell_type": "code",
   "execution_count": 33,
   "outputs": [],
   "source": [],
   "metadata": {
    "collapsed": false,
    "pycharm": {
     "name": "#%%\n"
    }
   }
  },
  {
   "cell_type": "code",
   "execution_count": 34,
   "outputs": [
    {
     "ename": "ModuleNotFoundError",
     "evalue": "No module named 'preprocessing.preprocessing_articles_text'; 'preprocessing' is not a package",
     "output_type": "error",
     "traceback": [
      "\u001B[0;31m---------------------------------------------------------------------------\u001B[0m",
      "\u001B[0;31mModuleNotFoundError\u001B[0m                       Traceback (most recent call last)",
      "\u001B[0;32m/tmp/ipykernel_81223/3126433667.py\u001B[0m in \u001B[0;36m<module>\u001B[0;34m\u001B[0m\n\u001B[1;32m      1\u001B[0m \u001B[0;31m# pydev_debug_cell\u001B[0m\u001B[0;34m\u001B[0m\u001B[0;34m\u001B[0m\u001B[0;34m\u001B[0m\u001B[0m\n\u001B[0;32m----> 2\u001B[0;31m \u001B[0;32mfrom\u001B[0m \u001B[0mpreprocessing\u001B[0m\u001B[0;34m.\u001B[0m\u001B[0mpreprocessing_articles_text\u001B[0m \u001B[0;32mimport\u001B[0m \u001B[0mremove_outliers\u001B[0m\u001B[0;34m\u001B[0m\u001B[0;34m\u001B[0m\u001B[0m\n\u001B[0m\u001B[1;32m      3\u001B[0m \u001B[0;34m\u001B[0m\u001B[0m\n\u001B[1;32m      4\u001B[0m \u001B[0mtext_cleaned\u001B[0m \u001B[0;34m=\u001B[0m \u001B[0mremove_outliers\u001B[0m\u001B[0;34m(\u001B[0m\u001B[0mtext\u001B[0m\u001B[0;34m)\u001B[0m\u001B[0;34m\u001B[0m\u001B[0;34m\u001B[0m\u001B[0m\n",
      "\u001B[0;31mModuleNotFoundError\u001B[0m: No module named 'preprocessing.preprocessing_articles_text'; 'preprocessing' is not a package"
     ]
    }
   ],
   "source": [],
   "metadata": {
    "collapsed": false,
    "pycharm": {
     "name": "#%%\n"
    }
   }
  },
  {
   "cell_type": "markdown",
   "source": [],
   "metadata": {
    "collapsed": false
   }
  },
  {
   "cell_type": "code",
   "execution_count": 7,
   "outputs": [],
   "source": [
    "# remove urls\n",
    "# remove digits\n",
    "# remove punctuations\n",
    "# remove only characters\n",
    "#"
   ],
   "metadata": {
    "collapsed": false,
    "pycharm": {
     "name": "#%%\n"
    }
   }
  },
  {
   "cell_type": "code",
   "execution_count": 9,
   "outputs": [
    {
     "name": "stdout",
     "output_type": "stream",
     "text": [
      "Social Cognitive Interventions for Adolescents - ORG\n",
      "Systematic Review - ORG\n",
      "Angela Tseng - PERSON\n",
      "Bruno Biagianti - PERSON\n",
      "Sunday - DATE\n",
      "Christine A. Conelea - PERSON\n",
      "1 - CARDINAL\n",
      "1 - CARDINAL\n",
      "1 - CARDINAL\n",
      "Behavioral Sciences - ORG\n",
      "University of Minnesota - ORG\n",
      "Minneapolis - GPE\n",
      "MN - ORG\n",
      "2 - CARDINAL\n",
      "Department of R&D, Posit Science Corporation - ORG\n",
      "San Francisco - GPE\n",
      "CA - ORG\n",
      "USA - GPE\n",
      "3 - CARDINAL\n",
      "Department of Department of Pathophysiology and Transplantation - ORG\n",
      "University of Milan - ORG\n",
      "Milan - GPE\n",
      "Italy - GPE\n",
      "Early Life Exposure to Antibiotics and Autism Spectrum Disorders - ORG\n",
      "Systematic Review - ORG\n",
      "Jan Łukasik - PERSON\n",
      "1 - CARDINAL\n",
      "Andrea Horvath - PERSON\n",
      "1 - CARDINAL\n",
      "Ruth - PERSON\n",
      "2 - CARDINAL\n",
      "Hania - GPE\n",
      "1 - CARDINAL\n",
      "Working Group - ORG\n",
      "June 2019 - DATE\n",
      "Author(s) 2019 - DATE\n",
      "Yonwoo Jung 1,2 - PERSON\n",
      "Angela M. Lee\n",
      " - PERSON\n",
      "Sherry A. McKee - PERSON\n",
      "R. Picciotto - PERSON\n",
      "ASD - ORG\n"
     ]
    }
   ],
   "source": [
    "import spacy\n",
    "import en_core_web_sm\n",
    "nlp = en_core_web_sm.load()\n",
    "text =\"\"\"\n",
    "\\n\n",
    "Social Cognitive Interventions for Adolescents with Autism\n",
    "Spectrum Disorders: A Systematic Review\n",
    "Angela Tseng 1 , Bruno Biagianti 2,3,* , Sunday M. Francis 1 , Christine A. Conelea 1 , Suma\n",
    "Jacob 1\n",
    "1. Department\n",
    "of Psychiatry and Behavioral Sciences, University of Minnesota, Minneapolis, MN,\n",
    "USA\n",
    "2. Department of R&D, Posit Science Corporation, San Francisco, CA, USA\n",
    "3. Department of Department of Pathophysiology and Transplantation, University of Milan, Milan,\n",
    "Italy\n",
    "\\n\n",
    "Early Life Exposure to Antibiotics and Autism Spectrum Disorders:\n",
    "A Systematic Review\n",
    "Jan Łukasik 1 · Bernadeta Patro‑Gołąb 1 · Andrea Horvath 1 · Ruth Baron 2 · Hania Szajewska 1 on behalf of the\n",
    "SAWANTI Working Group\n",
    "Published online: 8 June 2019\n",
    "© The Author(s) 2019\n",
    "\\n\n",
    "moderators\n",
    "Yonwoo Jung 1,2 , Angela M. Lee\n",
    "1,2\n",
    ", Sherry A. McKee 1 & Marina R. Picciotto\n",
    "1,2\n",
    "While exposure to nicotine during developmental periods can significantly affect brain development,\n",
    "studies examining the association between maternal smoking and autism spectrum disorder (ASD)\n",
    "\"\"\"\n",
    "doc = nlp(text)\n",
    "for ent in doc.ents:\n",
    "    print(ent.text, '-',ent.label_)"
   ],
   "metadata": {
    "collapsed": false,
    "pycharm": {
     "name": "#%%\n"
    }
   }
  },
  {
   "cell_type": "code",
   "execution_count": null,
   "outputs": [],
   "source": [],
   "metadata": {
    "collapsed": false,
    "pycharm": {
     "name": "#%%\n"
    }
   }
  }
 ],
 "metadata": {
  "kernelspec": {
   "display_name": "Python 3",
   "language": "python",
   "name": "python3"
  },
  "language_info": {
   "codemirror_mode": {
    "name": "ipython",
    "version": 2
   },
   "file_extension": ".py",
   "mimetype": "text/x-python",
   "name": "python",
   "nbconvert_exporter": "python",
   "pygments_lexer": "ipython2",
   "version": "2.7.6"
  }
 },
 "nbformat": 4,
 "nbformat_minor": 0
}